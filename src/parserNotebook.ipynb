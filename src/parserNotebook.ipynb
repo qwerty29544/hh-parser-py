{
 "cells": [
  {
   "cell_type": "code",
   "execution_count": 35,
   "source": [
    "import requests\r\n",
    "import json\r\n",
    "import re"
   ],
   "outputs": [],
   "metadata": {}
  },
  {
   "cell_type": "code",
   "execution_count": 31,
   "source": [
    "dict3 = requests.get(url=\"https://api.hh.ru/vacancies/47972375\").json()"
   ],
   "outputs": [],
   "metadata": {}
  },
  {
   "cell_type": "code",
   "execution_count": 36,
   "source": [
    "def _html_cleaner_(text):\r\n",
    "    if text is None:\r\n",
    "        return \"-\"\r\n",
    "    cleaner = re.compile(pattern='<.*?>|&([a-z0-9]+|#[0-9]{1,6}|#x[0-9a-f]{1,6})')\r\n",
    "    text = cleaner.sub(\"\", text)\r\n",
    "    return text"
   ],
   "outputs": [],
   "metadata": {}
  },
  {
   "cell_type": "code",
   "execution_count": 37,
   "source": [
    "_html_cleaner_(dict3.get(\"description\"))"
   ],
   "outputs": [
    {
     "output_type": "execute_result",
     "data": {
      "text/plain": [
       "'  О компании Ergeon Цель компании Ergeon – стать номер 1 технологической компанией, оказывающей услуги в сфере улучшения вашего дома. Этот быстрорастущий рынок в США (более 250 миллиардов долларов в совокупности) заполнен компаниями, предоставляющими некачественный и неэффективный сервис. Как IT-пионеры в этой области, мы оказываем лучший сервис, используя современный софт, данные и передовую экспертизу в отрасли. Ergeon основан и управляется 2-мя опытными предпринимателями, разделяющими глубокую страсть применения технологий во благо улучшения условий труда обычных людей. Мы создаем инновационные технологии, которые помогают как нашим клиентам, так и нашим подрядчикам и всем удаленным сотрудникам. У нас быстро растущая многонациональная команда из более чем 30 стран по всему миру. Мы делаем всё, чтобы наши сотрудники имели перспективы карьерного роста, комфортную рабочую атмосферу и приятные бонусы. Присоединяйтесь к нам и создавайте революцию в индустрии строительства вместе с нами! Роль/позиция Мы ищем в нашу команду талантливого, увлеченного своим делом, full-stack разработчика. Основной вашей целью будет как разработка эффективного и устойчивого под нагрузками серверного кода, так и создание и улучшение приложений для наших клиентов и внутреннего пользования. Это включает в себя работу над нашим бекендом и API, разработку адаптивного UI, архитектуру наших React/Redux приложений, и постоянную работу над улучшением нашего технологического стека для достижения оптимальной производительности. Умение и желание быстро обучаться является для нас одним из приоритетов. Обязанности   Создание масштабируемой и надежной внутренней архитектуры и API   Разрабатывать, тестировать и поддерживать надежное, масштабируемое, высококачественное программное обеспечение.   Разрабатывать адаптивный продуманный UI   Писать читаемый и легко поддерживаемый код   Делиться знаниями и обучать других разработчиков   Ориентировочная заработная плата USD 3000 - USD 4000 в месяц в зависимости от опыта Желаемые навыки и опыт Навыки и опыт (требуется):   Опыт работы с Python, Django и Django REST Framework   Опыт работы с SQL   Опыт работы с Javascript   Желание постоянно и быстро обучаться и развиваться   Внимание к пользовательским интерфейсам UX и созданию качественного кода   Хорошие общие знания в компьютерных науках   Удаленная работа, время для совещаний с 6 до 10 утра по калифорнийскому времени   Хорошо бы иметь   Опыт работы с React/Redux   Опыт работы с Docker   Опыт работы в распределенной команде   Опыт работы с Agile/Scrum или другими гибкими процессами разработки   Бонусы   Опционы компании   Гибкий график отпусков   Компенсация спорта / ПО / ноутбуков / софта / обучения или улучшения рабочего места 200$ в год   Компенсация стоимости наушников с микрофоном   Компенсация расходов на покупку ноутбука в размере 2000$ после 1 года работы и каждые 3 года  '"
      ]
     },
     "metadata": {},
     "execution_count": 37
    }
   ],
   "metadata": {}
  },
  {
   "cell_type": "code",
   "execution_count": 16,
   "source": [
    "num_page = 1\r\n",
    "per_page = 15\r\n",
    "keyword = \"Python программист\"\r\n",
    "base_url = \"https://api.hh.ru/vacancies/\"\r\n",
    "r = requests.get(url=base_url,\r\n",
    "                 params={'text': keyword, 'per_page': per_page, 'page': num_page})"
   ],
   "outputs": [],
   "metadata": {}
  },
  {
   "cell_type": "code",
   "execution_count": 18,
   "source": [
    "list_vacs = r.json()[\"items\"]"
   ],
   "outputs": [],
   "metadata": {}
  },
  {
   "cell_type": "code",
   "execution_count": 27,
   "source": [
    "list_vacs[0].get(\"snippet\").get(\"requirement\")"
   ],
   "outputs": [
    {
     "output_type": "execute_result",
     "data": {
      "text/plain": [
       "'Опыт работы с <highlighttext>Python</highlighttext>, Django и Django REST Framework. Опыт работы с SQL. Опыт работы с Javascript. Желание постоянно и...'"
      ]
     },
     "metadata": {},
     "execution_count": 27
    }
   ],
   "metadata": {}
  },
  {
   "cell_type": "code",
   "execution_count": 30,
   "source": [
    "list_vacs[0].get(\"id\")"
   ],
   "outputs": [
    {
     "output_type": "execute_result",
     "data": {
      "text/plain": [
       "'47972375'"
      ]
     },
     "metadata": {},
     "execution_count": 30
    }
   ],
   "metadata": {}
  },
  {
   "cell_type": "code",
   "execution_count": 38,
   "source": [
    "list(list_vacs[0])"
   ],
   "outputs": [
    {
     "output_type": "execute_result",
     "data": {
      "text/plain": [
       "['id',\n",
       " 'premium',\n",
       " 'name',\n",
       " 'department',\n",
       " 'has_test',\n",
       " 'response_letter_required',\n",
       " 'area',\n",
       " 'salary',\n",
       " 'type',\n",
       " 'address',\n",
       " 'response_url',\n",
       " 'sort_point_distance',\n",
       " 'published_at',\n",
       " 'created_at',\n",
       " 'archived',\n",
       " 'apply_alternate_url',\n",
       " 'insider_interview',\n",
       " 'url',\n",
       " 'alternate_url',\n",
       " 'relations',\n",
       " 'employer',\n",
       " 'snippet',\n",
       " 'contacts',\n",
       " 'schedule',\n",
       " 'working_days',\n",
       " 'working_time_intervals',\n",
       " 'working_time_modes',\n",
       " 'accept_temporary']"
      ]
     },
     "metadata": {},
     "execution_count": 38
    }
   ],
   "metadata": {}
  },
  {
   "cell_type": "code",
   "execution_count": 39,
   "source": [
    "for vac in list_vacs:\r\n",
    "    print(vac.get(\"salary\"))"
   ],
   "outputs": [
    {
     "output_type": "stream",
     "name": "stdout",
     "text": [
      "{'from': 3000, 'to': 4000, 'currency': 'USD', 'gross': True}\n",
      "{'from': 80000, 'to': 150000, 'currency': 'RUR', 'gross': False}\n",
      "{'from': 80000, 'to': 170000, 'currency': 'RUR', 'gross': False}\n",
      "{'from': 60000, 'to': 150000, 'currency': 'RUR', 'gross': False}\n",
      "{'from': 300000, 'to': None, 'currency': 'RUR', 'gross': False}\n",
      "None\n",
      "{'from': 180000, 'to': 250000, 'currency': 'RUR', 'gross': False}\n",
      "{'from': 120000, 'to': 180000, 'currency': 'RUR', 'gross': False}\n",
      "{'from': 80000, 'to': 150000, 'currency': 'RUR', 'gross': False}\n",
      "{'from': 110000, 'to': 140000, 'currency': 'RUR', 'gross': False}\n",
      "{'from': 100000, 'to': 200000, 'currency': 'RUR', 'gross': False}\n",
      "None\n",
      "{'from': 300000, 'to': 400000, 'currency': 'RUR', 'gross': False}\n",
      "{'from': 150000, 'to': 200000, 'currency': 'RUR', 'gross': False}\n",
      "{'from': 70000, 'to': 140000, 'currency': 'RUR', 'gross': False}\n"
     ]
    }
   ],
   "metadata": {}
  }
 ],
 "metadata": {
  "orig_nbformat": 4,
  "language_info": {
   "name": "python",
   "version": "3.8.8",
   "mimetype": "text/x-python",
   "codemirror_mode": {
    "name": "ipython",
    "version": 3
   },
   "pygments_lexer": "ipython3",
   "nbconvert_exporter": "python",
   "file_extension": ".py"
  },
  "kernelspec": {
   "name": "python3",
   "display_name": "Python 3.8.8 64-bit ('base': conda)"
  },
  "interpreter": {
   "hash": "b3ba2566441a7c06988d0923437866b63cedc61552a5af99d1f4fb67d367b25f"
  }
 },
 "nbformat": 4,
 "nbformat_minor": 2
}